{
 "cells": [
  {
   "cell_type": "markdown",
   "metadata": {},
   "source": [
    "# Class\n",
    "- A class is a blueprint for the object\n",
    "- C lasses are defined by the \" keyword.\n",
    "- Class name in python is preceded with class keyword followed by colon ( (::).\n",
    "- Classes commonly contains data field to store the data andmethods for defining behaviours.\n",
    "### Syntax :     class  MyClass"
   ]
  },
  {
   "cell_type": "markdown",
   "metadata": {},
   "source": [
    "# Object\n",
    "- Object is an instance of a class.\n",
    "### Syntax : obj = MyClass()\n",
    "- Here, obj is object of class MyClass"
   ]
  },
  {
   "cell_type": "code",
   "execution_count": 5,
   "metadata": {},
   "outputs": [
    {
     "name": "stdout",
     "output_type": "stream",
     "text": [
      "hello\n",
      "name is oxygen\n"
     ]
    }
   ],
   "source": [
    "class Myclass:\n",
    "    def funct1(self):\n",
    "        print(\"hello\")\n",
    "    def funct2(self,name):\n",
    "        print('name is',name)\n",
    "#create object of MyClass\n",
    "obj = Myclass()\n",
    "\n",
    "#callinf Function\n",
    "obj.funct1()\n",
    "obj.funct2(\"oxygen\")"
   ]
  },
  {
   "cell_type": "markdown",
   "metadata": {},
   "source": [
    "# What is self?\n",
    "- All methods in python including some special methods like initializer have first parameter self .\n",
    "- This parameter refers to the object which invokes the method.\n",
    "- When you create new object the self parameter in the _ _ _init_ _ _ method is automatically set to reference the object you have just created.\n",
    "\n"
   ]
  },
  {
   "cell_type": "markdown",
   "metadata": {},
   "source": [
    "# some of 2 numbers using class"
   ]
  },
  {
   "cell_type": "code",
   "execution_count": 8,
   "metadata": {},
   "outputs": [
    {
     "name": "stdout",
     "output_type": "stream",
     "text": [
      "Enter value of a : 6\n",
      "Enter value of b : 5\n",
      "sum of a + b =  11\n"
     ]
    }
   ],
   "source": [
    "class Sum:\n",
    "    def add(self,a,b):\n",
    "        ans=a+b\n",
    "        print(\"sum of a + b = \",ans)\n",
    "obj = Sum()\n",
    "obj.add(int(input(\"Enter value of a : \")),int(input(\"Enter value of b : \")))\n",
    "\n",
    "        "
   ]
  },
  {
   "cell_type": "markdown",
   "metadata": {},
   "source": [
    "# Python Constructors\n",
    "- A constructor is a class function that instantiates an object to predefined values.\n",
    "- It begins with a double underscore (_). It ___ init___ () method.\n",
    "- There are two types of Constructor.\n",
    "- 1) Default Constructor\n",
    "- 2) Parameterized Constructor"
   ]
  },
  {
   "cell_type": "markdown",
   "metadata": {},
   "source": [
    "# Default constructor example"
   ]
  },
  {
   "cell_type": "code",
   "execution_count": 13,
   "metadata": {},
   "outputs": [
    {
     "name": "stdout",
     "output_type": "stream",
     "text": [
      "This is Default constructor\n",
      "It is called whenever the object with no argument is created\n",
      "hello  oxygen\n"
     ]
    }
   ],
   "source": [
    "class Demo:\n",
    "    def __init__(self): #by this way we an define default constructor\n",
    "        print(\"This is Default constructor\")\n",
    "        print(\"It is called whenever the object with no argument is created\")\n",
    "    def funct(self,name):\n",
    "        print(\"hello \",name)\n",
    "obj= Demo()\n",
    "obj.funct(\"oxygen\")"
   ]
  },
  {
   "cell_type": "markdown",
   "metadata": {},
   "source": [
    "# Parameterized Constructor Example\n"
   ]
  },
  {
   "cell_type": "code",
   "execution_count": 17,
   "metadata": {},
   "outputs": [
    {
     "name": "stdout",
     "output_type": "stream",
     "text": [
      "This is parameterized constructor\n",
      "It is called whenever the object with  argument is created\n",
      "hello  oxygen\n"
     ]
    }
   ],
   "source": [
    "class Demo:\n",
    "    def __init__(self,name): #by this way we an define default constructor\n",
    "        print(\"This is parameterized constructor\")\n",
    "        print(\"It is called whenever the object with  argument is created\")\n",
    "        print(\"hello \",name)\n",
    "   \n",
    "        \n",
    "#obj= Demo() we cant create object without parameter if we havent declared it\n",
    "obj=Demo(\"oxygen\")"
   ]
  },
  {
   "cell_type": "markdown",
   "metadata": {},
   "source": [
    "### Accessing local variable using global variable"
   ]
  },
  {
   "cell_type": "code",
   "execution_count": 22,
   "metadata": {},
   "outputs": [
    {
     "name": "stdout",
     "output_type": "stream",
     "text": [
      "This is function 1\n",
      "This is 3rd function hello  oxygen\n"
     ]
    }
   ],
   "source": [
    "class Demo:\n",
    "    name=\"\"\n",
    "    def funct1(self):\n",
    "        print(\"This is function 1\")\n",
    "        \n",
    "    def funct2(self,name):\n",
    "        self.name = name #self.name is global variable and simply name is local variable\n",
    "    \n",
    "    def funct3(self):\n",
    "        print(\"This is 3rd function hello \",self.name)\n",
    "obj = Demo()\n",
    "obj.funct1()\n",
    "obj.funct2(\"oxygen\")\n",
    "obj.funct3()"
   ]
  },
  {
   "cell_type": "markdown",
   "metadata": {},
   "source": [
    "### Assign String Value to Class Variable Using Constructor"
   ]
  },
  {
   "cell_type": "code",
   "execution_count": 25,
   "metadata": {},
   "outputs": [
    {
     "name": "stdout",
     "output_type": "stream",
     "text": [
      "Hello  Oxygen\n"
     ]
    }
   ],
   "source": [
    "class MyClass:\n",
    "    name=\"\"\n",
    "    def __init__(self,name):\n",
    "        self.name = name\n",
    "    def funct1(self):\n",
    "        print(\"Hello \",self.name)\n",
    "# creting object with parametarized constructor\n",
    "obj =  MyClass(\"Oxygen\")\n",
    "\n",
    "obj.funct1()"
   ]
  },
  {
   "cell_type": "markdown",
   "metadata": {},
   "source": [
    "# Another example"
   ]
  },
  {
   "cell_type": "code",
   "execution_count": 36,
   "metadata": {},
   "outputs": [
    {
     "name": "stdout",
     "output_type": "stream",
     "text": [
      "Enter n1 = 33\n",
      "Enter n2 = 21\n",
      "answer of na + n2 = 54\n"
     ]
    }
   ],
   "source": [
    "class Demo:\n",
    "    n1,n2=0,0\n",
    "    #constructor\n",
    "    def __init__(self,n1,n2):\n",
    "        self.n1,self.n2=n1,n2\n",
    "    def funct1(self):\n",
    "        sum= self.n1 + self.n2\n",
    "        return sum\n",
    "\n",
    "obj = Demo(int(input(\"Enter n1 = \")),int(input(\"Enter n2 = \")))\n",
    "ans = obj.funct1()\n",
    "print(\"answer of na + n2 =\",ans)    "
   ]
  },
  {
   "cell_type": "markdown",
   "metadata": {},
   "source": [
    "# Inheritance\n",
    "- Inheritance allows programmer to create a general class first then later extend it to more specialized class.\n",
    "- Using inheritance you can inherit all access data fields and methods, plus you can add your own methods and fields, thus inheritance provide a way to organize code, rather than rewriting it from scratch.\n",
    "## Syntax to create a subclass is:\n",
    "   ### class SubClass(SuperClass):\n",
    "        #data fields\n",
    "        #instance methods\n"
   ]
  },
  {
   "cell_type": "markdown",
   "metadata": {},
   "source": [
    "# Types of Inheritance\n",
    "- Single Level inheritance\n",
    "- Multi Level inheritance\n",
    "- Multiple inheritance\n",
    "- Hierarchical Inheritance\n",
    "- Hybrid Inheritance"
   ]
  },
  {
   "attachments": {
    "image.png": {
     "image/png": "[encoded data removed]"
    }
   },
   "cell_type": "markdown",
   "metadata": {},
   "source": [
    "## Single level Inheritance\n",
    "- When one class inherits another class, it is known as single level inheritance.\n",
    "\n",
    "![image.png](attachment:image.png)"
   ]
  },
  {
   "cell_type": "code",
   "execution_count": 40,
   "metadata": {},
   "outputs": [
    {
     "name": "stdout",
     "output_type": "stream",
     "text": [
      "calling parent class-A constructor\n",
      "Calling method of parent class-A\n",
      "calling Child class-B constructor\n",
      "Calling method of parent class-A\n",
      "Calling method of child class-B\n"
     ]
    }
   ],
   "source": [
    "# defining parent cclass \n",
    "class A:\n",
    "    def __init__(self):\n",
    "        print(\"calling parent class-A constructor\")\n",
    "    def methodA(self):\n",
    "        print(\"Calling method of parent class-A\")\n",
    "        \n",
    "# defining child class\n",
    "class B(A):  # class B extends class A\n",
    "    def __init__(self):\n",
    "        print(\"calling Child class-B constructor\")\n",
    "    def methodB(self):\n",
    "        print(\"Calling method of child class-B\")\n",
    "# creating object of parent class we can only sccess its own methods only\n",
    "parent = A()\n",
    "parent.methodA() #we cant access class B method\n",
    "\n",
    "# if constructor of child class is not define den it will find for parent class constructor\n",
    "child = B()\n",
    "child.methodA()\n",
    "child.methodB()"
   ]
  },
  {
   "attachments": {
    "image.png": {
     "image/png": "[encoded data removed]"
    }
   },
   "cell_type": "markdown",
   "metadata": {},
   "source": [
    "# Multi level Inheritance\n",
    "- When one class inherits another class which is further inherited by another class, it is known as multi level inheritance.\n",
    "![image.png](attachment:image.png)"
   ]
  },
  {
   "cell_type": "code",
   "execution_count": 46,
   "metadata": {},
   "outputs": [
    {
     "name": "stdout",
     "output_type": "stream",
     "text": [
      "calling sub-Child class-C constructor\n",
      "Calling method of parent class-A\n",
      "Calling method of child class-B\n",
      "Calling method of sub-child class-C\n"
     ]
    }
   ],
   "source": [
    "class A:\n",
    "    def __init__(self):\n",
    "        print(\"calling parent class-A constructor\")\n",
    "    def methodA(self):\n",
    "        print(\"Calling method of parent class-A\")\n",
    "    \n",
    "class B(A):\n",
    "    def __init__(self):\n",
    "        print(\"calling Child class-B constructor\")\n",
    "    def methodB(self):\n",
    "        print(\"Calling method of child class-B\")\n",
    "\n",
    "class C(B):\n",
    "    def __init__(self):\n",
    "        print(\"calling sub-Child class-C constructor\")\n",
    "    def methodC(self):\n",
    "        print(\"Calling method of sub-child class-C\")\n",
    "    \n",
    "sub_child = C()\n",
    "sub_child.methodA()\n",
    "sub_child.methodB()\n",
    "sub_child.methodC()"
   ]
  },
  {
   "attachments": {
    "image.png": {
     "image/png": "[encoded data removed]"
    }
   },
   "cell_type": "markdown",
   "metadata": {},
   "source": [
    "# Multiple Inheritance\n",
    "- If a class can inherit members from more than one base class is known as Multiple Inheritance.\n",
    "![image.png](attachment:image.png)\n",
    "\n",
    "## syntax:\n",
    "    class a:\n",
    "        .....\n",
    "    class b:\n",
    "        .....\n",
    "    class c(a,b): #it ectends 'a' and 'b' both class"
   ]
  },
  {
   "cell_type": "code",
   "execution_count": 48,
   "metadata": {},
   "outputs": [
    {
     "name": "stdout",
     "output_type": "stream",
     "text": [
      "calling Child class-C constructor\n",
      "Calling method of class-A\n",
      "Calling method of  class-B\n",
      "Calling method of child class-C\n"
     ]
    }
   ],
   "source": [
    "class A:\n",
    "    def __init__(self):\n",
    "        print(\"calling parent class-A constructor\")\n",
    "    def methodA(self):\n",
    "        print(\"Calling method of class-A\")\n",
    "    \n",
    "class B:\n",
    "    def __init__(self):\n",
    "        print(\"calling  class-B constructor\")\n",
    "    def methodB(self):\n",
    "        print(\"Calling method of  class-B\")\n",
    "\n",
    "class C(A,B):\n",
    "    def __init__(self):\n",
    "        print(\"calling Child class-C constructor\")\n",
    "    def methodC(self):\n",
    "        print(\"Calling method of child class-C\")\n",
    "    \n",
    "sub_child = C()\n",
    "sub_child.methodA()\n",
    "sub_child.methodB()\n",
    "sub_child.methodC()"
   ]
  },
  {
   "attachments": {
    "image.png": {
     "image/png": "[encoded data removed]"
    }
   },
   "cell_type": "markdown",
   "metadata": {},
   "source": [
    "# Hierarchical Inheritance\n",
    "- If more than one class can inherit members from one class is known as Hierarchical Inheritance.\n",
    "![image.png](attachment:image.png)"
   ]
  },
  {
   "cell_type": "code",
   "execution_count": 51,
   "metadata": {},
   "outputs": [
    {
     "name": "stdout",
     "output_type": "stream",
     "text": [
      "calling  class-B constructor\n",
      "Calling method of class-A\n",
      "Calling method of  class-B\n",
      "calling Child class-C constructor\n",
      "Calling method of class-A\n",
      "Calling method of child class-C\n"
     ]
    }
   ],
   "source": [
    "class A:\n",
    "    def __init__(self):\n",
    "        print(\"calling parent class-A constructor\")\n",
    "    def methodA(self):\n",
    "        print(\"Calling method of class-A\")\n",
    "    \n",
    "class B(A):\n",
    "    def __init__(self):\n",
    "        print(\"calling  class-B constructor\")\n",
    "    def methodB(self):\n",
    "        print(\"Calling method of  class-B\")\n",
    "\n",
    "class C(A):\n",
    "    def __init__(self):\n",
    "        print(\"calling Child class-C constructor\")\n",
    "    def methodC(self):\n",
    "        print(\"Calling method of child class-C\")\n",
    "obj_B = B()\n",
    "obj_B.methodA()\n",
    "obj_B.methodB()\n",
    "\n",
    "obj_C = C()\n",
    "obj_C.methodA()  \n",
    "obj_C.methodC()"
   ]
  },
  {
   "cell_type": "markdown",
   "metadata": {},
   "source": [
    "# Hybrid Inheritance\n",
    "- Hybrid Inheritance is implemented by combining more than one type of inheritance.\n"
   ]
  },
  {
   "cell_type": "markdown",
   "metadata": {},
   "source": [
    "# Polymorphism\n",
    "- Polymorphism is an ability (in OOP) to use common interface for multiple form (data types).\n",
    "- Types of Polymorphism :\n",
    "    - Overloading Methods\n",
    "    - Overriding Methods\n"
   ]
  },
  {
   "cell_type": "markdown",
   "metadata": {},
   "source": [
    "# Overriding Methods\n",
    "- Override means having two methods with the same name but doing different tasks. It means that one of the methods overrides the other.\n",
    "- If there is any method in the superclass and a method with the same name in a subclass, then by executing the method, the method of the corresponding class will be executed."
   ]
  },
  {
   "cell_type": "code",
   "execution_count": 52,
   "metadata": {},
   "outputs": [
    {
     "name": "stdout",
     "output_type": "stream",
     "text": [
      "child class method\n"
     ]
    }
   ],
   "source": [
    "#define parent class\n",
    "class ParentClass():\n",
    "    def func1(self):\n",
    "        print(\"parent method class\")\n",
    "\n",
    "class ChildClass(ParentClass):\n",
    "    def func1(self):\n",
    "        print(\"child class method\")\n",
    "\n",
    "obj= ChildClass()\n",
    "obj.func1()"
   ]
  },
  {
   "cell_type": "code",
   "execution_count": 53,
   "metadata": {},
   "outputs": [
    {
     "name": "stdout",
     "output_type": "stream",
     "text": [
      "child class method\n",
      "parent method class\n"
     ]
    }
   ],
   "source": [
    "#define parent class\n",
    "class ParentClass():\n",
    "    def func1(self):\n",
    "        print(\"parent method class\")\n",
    "\n",
    "class ChildClass(ParentClass):\n",
    "    def func1(self):\n",
    "        print(\"child class method\")\n",
    "#object of child-class\n",
    "obj1= ChildClass()\n",
    "obj1.func1()\n",
    "\n",
    "# object of parent-class\n",
    "obj2= ParentClass()\n",
    "obj2.func1()"
   ]
  },
  {
   "cell_type": "markdown",
   "metadata": {},
   "source": [
    "# Overloading Methods\n",
    "- Python does not supports method overloading.\n",
    "- We may overload the methods but can only use the latest defined method"
   ]
  },
  {
   "cell_type": "code",
   "execution_count": 5,
   "metadata": {},
   "outputs": [
    {
     "name": "stdout",
     "output_type": "stream",
     "text": [
      "Enter n1 = 5\n",
      "Enter n2 =6\n",
      "Enter n3 = 7\n",
      "sum of a+b+c=  18\n"
     ]
    }
   ],
   "source": [
    "# define class\n",
    "class Demo():\n",
    "    def sum(n1,n2):\n",
    "        ans=n1+n2\n",
    "        print(\"sum of a+b= \",ans)\n",
    "    def sum(n1,n2,n3):\n",
    "        ans=n1+n2+n3\n",
    "        print(\"sum of a+b+c= \",ans)\n",
    "obj = Demo \n",
    "#obj.sum(int(input(\"Enter n1 = \")),int(input(\"Enter n2 =\")))  error will generate\n",
    "obj.sum(int(input(\"Enter n1 = \")),int(input(\"Enter n2 =\")),int(input(\"Enter n3 = \")))\n",
    "\n",
    "\n",
    "\n"
   ]
  },
  {
   "cell_type": "markdown",
   "metadata": {},
   "source": [
    "- In the previous example, we have defined two sum method, but we can only use the second sum method, as python does not supports method overloading.\n",
    "- We may define many method of same name and different argument but we can only use the latest defined method.\n",
    "- Calling the other method will produce an error. "
   ]
  },
  {
   "cell_type": "code",
   "execution_count": null,
   "metadata": {},
   "outputs": [],
   "source": []
  }
 ],
 "metadata": {
  "kernelspec": {
   "display_name": "Python 3",
   "language": "python",
   "name": "python3"
  },
  "language_info": {
   "codemirror_mode": {
    "name": "ipython",
    "version": 3
   },
   "file_extension": ".py",
   "mimetype": "text/x-python",
   "name": "python",
   "nbconvert_exporter": "python",
   "pygments_lexer": "ipython3",
   "version": "3.8.8"
  }
 },
 "nbformat": 4,
 "nbformat_minor": 4
}
