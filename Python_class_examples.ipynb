{
 "cells": [
  {
   "cell_type": "markdown",
   "id": "bd6ceae9",
   "metadata": {},
   "source": [
    "### 1) Create a class cal1 that will calculate sum of three numbers. Create setdata() method which has three parameters that contain numbers. Create display() method that will calculate sum and display sum."
   ]
  },
  {
   "cell_type": "code",
   "execution_count": 5,
   "id": "9394cc31",
   "metadata": {},
   "outputs": [
    {
     "name": "stdout",
     "output_type": "stream",
     "text": [
      "Enter n1 =5\n",
      "Enter n2 =6\n",
      "Enter n3 = 7\n",
      "Sum of n1+n2+n3 = 18\n"
     ]
    }
   ],
   "source": [
    "class cal1:\n",
    "    n1=n2=n3=\"\"\n",
    "    def setdata(self,n1,n2,n3):\n",
    "        self.n1= n1\n",
    "        self.n2=n2\n",
    "        self.n3=n3\n",
    "    def display(self):\n",
    "        sum = self.n1+self.n2+self.n3\n",
    "        print(\"Sum of n1+n2+n3 =\",sum)\n",
    "obj = cal1()\n",
    "obj.setdata(int(input(\"Enter n1 =\")),int(input(\"Enter n2 =\")),int(input(\"Enter n3 = \")))\n",
    "obj.display()"
   ]
  },
  {
   "cell_type": "markdown",
   "id": "8bc19487",
   "metadata": {},
   "source": [
    "### 2) Create a class cal2 that will calculate area of a circle. Create setdata() method that should take radius from the user. Create area() method that will calculate area . Create display() method that will display area .\n"
   ]
  },
  {
   "cell_type": "code",
   "execution_count": 8,
   "id": "d7d81ff0",
   "metadata": {},
   "outputs": [
    {
     "name": "stdout",
     "output_type": "stream",
     "text": [
      "Enter radius of circle r = 5\n",
      "Area of circle having radius=5 is 78.539816\n"
     ]
    }
   ],
   "source": [
    "import math\n",
    "class cal2:\n",
    "    r=circle=\"\"\n",
    "    def setdata(self,r):\n",
    "        self.r= r\n",
    "    def area(self):\n",
    "        self.circle= math.pi*(self.r**2)\n",
    "    def display(self):\n",
    "        print(\"Area of circle having radius=%d is %f\"%(self.r,self.circle))\n",
    "obj = cal2()\n",
    "obj.setdata(int(input(\"Enter radius of circle r = \")))\n",
    "obj.area()\n",
    "obj.display()\n",
    "    "
   ]
  },
  {
   "cell_type": "markdown",
   "id": "d4695eb2",
   "metadata": {},
   "source": [
    "### 3) Create a class cal3 that will calculate simple interest. Create constructor method which has three parameters .Create calInterest() method that will calculate Interest . Create display() method that will display Interest."
   ]
  },
  {
   "cell_type": "code",
   "execution_count": 10,
   "id": "07f6a746",
   "metadata": {},
   "outputs": [
    {
     "name": "stdout",
     "output_type": "stream",
     "text": [
      "Enter Principal amount = 1000\n",
      "enter number of years = 1\n",
      "Enter rate of interest = 7.5\n",
      "Simple-Interest =  75.0\n"
     ]
    }
   ],
   "source": [
    "class cal3:\n",
    "    p=n=r=\"\"\n",
    "    si=\"\"\n",
    "    def __init__(self,p,n,r):\n",
    "        self.p,self.n,self.r=p,n,r\n",
    "    def callintrest(self):\n",
    "        self.si=(self.p * self.r * self.n)/100\n",
    "    def display(self):\n",
    "        print(\"Simple-Interest = \",self.si)\n",
    "obj = cal3(float(input(\"Enter Principal amount = \")),float(input(\"enter number of years = \")),float(input(\"Enter rate of interest = \")))\n",
    "obj.callintrest()\n",
    "obj.display()\n",
    "        "
   ]
  },
  {
   "cell_type": "markdown",
   "id": "05701e85",
   "metadata": {},
   "source": [
    "### 4) Create a class cal4 that will calculate square of a number. Create setdata() method which has one parameters that contain number. Create display() method that will calculate sum.(Function should return value)\n"
   ]
  },
  {
   "cell_type": "code",
   "execution_count": 14,
   "id": "f33ee605",
   "metadata": {},
   "outputs": [
    {
     "name": "stdout",
     "output_type": "stream",
     "text": [
      "Enter the number to be square= 5\n",
      "Square is = 25\n"
     ]
    }
   ],
   "source": [
    "class cal4:\n",
    "    n1=sq=\"\"\n",
    "    def setdata(self,n1):\n",
    "        self.n1=n1\n",
    "    def display(self):\n",
    "        self.sq = self.n1**2\n",
    "        return 'Square is = '+str(self.sq)\n",
    "obj = cal4()\n",
    "obj.setdata(int(input(\"Enter the number to be square= \")))\n",
    "print(obj.display())"
   ]
  },
  {
   "cell_type": "markdown",
   "id": "1156cffe",
   "metadata": {},
   "source": [
    "### 5) Consider an employee class, which contains fields such as name and designation. And a subclass, which contains a field salary. Write a program for inheriting this relation."
   ]
  },
  {
   "cell_type": "code",
   "execution_count": 17,
   "id": "8a9cd59e",
   "metadata": {},
   "outputs": [
    {
     "name": "stdout",
     "output_type": "stream",
     "text": [
      "Enter your name :oxygen\n",
      "Enter your designation :cricketer\n",
      "Enter your salary :5,00,000\n",
      "Name = oxygen\n",
      "Designation = cricketer\n",
      "salary = 5,00,000\n"
     ]
    }
   ],
   "source": [
    "class employee:\n",
    "    name=designation=\"\"\n",
    "class subclass(employee):\n",
    "    salary=\"\"\n",
    "    def __init__(self,name,designation,salary):\n",
    "        self.name=name\n",
    "        self.designation = designation\n",
    "        self.salary =  salary\n",
    "    def display(self):\n",
    "        print(\"Name = \"+self.name)\n",
    "        print(\"Designation = \"+self.designation)\n",
    "        print(\"salary = \"+self.salary)\n",
    "obj = subclass(input(\"Enter your name :\"),input(\"Enter your designation :\"),input(\"Enter your salary :\"))\n",
    "obj.display()  "
   ]
  },
  {
   "cell_type": "markdown",
   "id": "d5edbe3b",
   "metadata": {},
   "source": [
    "### 6) Create a class cal5 that will calculate area of a rectangle. Create constructor method which has two parameters .Create calArea() method that will calculate area of a rectangle. Create display() method that will display area of a rectangle."
   ]
  },
  {
   "cell_type": "code",
   "execution_count": 21,
   "id": "383c1a9d",
   "metadata": {},
   "outputs": [
    {
     "name": "stdout",
     "output_type": "stream",
     "text": [
      "Enter length of rectangle = 6\n",
      "Enter breadth of rectangle = 7\n",
      "Area of rectangle is =  42.0\n"
     ]
    }
   ],
   "source": [
    "class cal5:\n",
    "    l=b=\"\"\n",
    "    area=\"\"\n",
    "    def __init__(self,l,b):\n",
    "        self.l,self.b=l,b\n",
    "    def calArea(self):\n",
    "        self.area= self.l * self.b\n",
    "    def display(self):\n",
    "        print(\"Area of rectangle is = \",self.area)\n",
    "obj = cal5(float(input(\"Enter length of rectangle = \")),float(input(\"Enter breadth of rectangle = \")))\n",
    "obj.calArea()\n",
    "obj.display()\n",
    "        "
   ]
  },
  {
   "cell_type": "markdown",
   "id": "f58b0d7a",
   "metadata": {},
   "source": [
    "### 7) Create a class cal6 that will calculate area of a square. Create setdata() method that should take length from the user. Create area() method that will calculate area . Create display() method that will display area ."
   ]
  },
  {
   "cell_type": "code",
   "execution_count": 23,
   "id": "4adfd8d1",
   "metadata": {},
   "outputs": [
    {
     "name": "stdout",
     "output_type": "stream",
     "text": [
      "Enter the number to be square= 6\n",
      "Square of given number is =  36\n"
     ]
    }
   ],
   "source": [
    "class cal6:\n",
    "    n1=sq=\"\"\n",
    "    def setdata(self,n1):\n",
    "        self.n1=n1\n",
    "    def area(self):\n",
    "        self.sq = self.n1**2\n",
    "    def display(self):\n",
    "        print(\"Square of given number is = \",self.sq)\n",
    "        \n",
    "        \n",
    "obj = cal6()\n",
    "obj.setdata(int(input(\"Enter the number to be square= \")))\n",
    "obj.area()\n",
    "obj.display()"
   ]
  },
  {
   "cell_type": "markdown",
   "id": "f5ede99c",
   "metadata": {},
   "source": [
    "### 8) Write a program which use of inheritance: Define a class publisher that stores the name of the title. Derive two classes book and tape, which inherit publisher. Book class contains member data called page no and tape class contain time for playing. Define functions in the appropriate classes to get and print the details. "
   ]
  },
  {
   "cell_type": "code",
   "execution_count": 2,
   "id": "1c933276",
   "metadata": {},
   "outputs": [
    {
     "name": "stdout",
     "output_type": "stream",
     "text": [
      " Enter Title of book :You can win!\n",
      "Enter pages of book :450\n",
      "Book title is=You can win! and book page numbers is =450\n",
      "--------------------------------------------------------------------\n",
      " Enter Title of Tape :FF9\n",
      "Enter playing time of tape :2:30 hrs\n",
      " Tape title is = FF9 and playing time = 2:30 hrs\n"
     ]
    }
   ],
   "source": [
    "class publisher:\n",
    "    title1=\"\"\n",
    "    title2=\"\"\n",
    "class book(publisher):\n",
    "    page_no=\"\"\n",
    "    def __init__(self,ti,pg):\n",
    "        self.title1=ti\n",
    "        self.page_no = pg\n",
    "    def display(self):\n",
    "        print(\"Book title is=\"+self.title1+\" and book page numbers is =\"+self.page_no)\n",
    "class tape(publisher):\n",
    "    time=\"\"\n",
    "    def __init__(self,title,time):\n",
    "        self.time=time\n",
    "        self.title2= title\n",
    "    def display(self):\n",
    "        print(\" Tape title is = \"+self.title2+\" and playing time = \"+self.time)\n",
    "\n",
    "book_obj = book(input(\" Enter Title of book :\"),input(\"Enter pages of book :\"))\n",
    "book_obj.display()\n",
    "print(\"--------------------------------------------------------------------\")\n",
    "tape_obj = tape(input(\" Enter Title of Tape :\"),input(\"Enter playing time of tape :\"))\n",
    "tape_obj.display()   "
   ]
  },
  {
   "cell_type": "markdown",
   "id": "c6a2be05",
   "metadata": {},
   "source": [
    "### 9) Create a class called scheme with scheme_id, scheme_name,outgoing_rate, and message_charge. Derive customer class form scheme and include cust_id, name and mobile_no data.Define necessary functions to read and display data."
   ]
  },
  {
   "cell_type": "code",
   "execution_count": 6,
   "id": "c8ece3c4",
   "metadata": {},
   "outputs": [
    {
     "name": "stdout",
     "output_type": "stream",
     "text": [
      "---------------------input-----------------------\n",
      "Enter the details asked below about scheme:\n",
      "Enter Scheme ID :11\n",
      "Enter Scheme name :Deal of the day\n",
      "Enter Outgoing Rate :45%\n",
      "Enter message charge :2,3\n",
      "Enter the details of Customer\n",
      "Enter customer Id :1\n",
      "Enter customer name :Oxygen\n",
      "Enter customer Number9835346187\n",
      "-------------------- output -----------------------\n",
      "Scheme ID:  11\n",
      "Scheme Name:  Deal of the day\n",
      "Outgoing Rate:  45%\n",
      "Message charge:  2,3\n",
      "Customer ID : 1\n",
      "Customer Name : Oxygen\n",
      "customer Mobile number : 9835346187\n"
     ]
    }
   ],
   "source": [
    "class scheme:\n",
    "    scheme_id=scheme_name=outgoing_rate=message_charge=\"\"\n",
    "class customer(scheme):\n",
    "    cust_id=name=mobile_no=\"\"\n",
    "    def read(self):\n",
    "        print(\"---------------------input-----------------------\")\n",
    "        print(\"Enter the details asked below about scheme:\")\n",
    "        self.scheme_id = input(\"Enter Scheme ID :\")\n",
    "        self.scheme_name = input(\"Enter Scheme name :\")\n",
    "        self.outgoing_rate =input(\"Enter Outgoing Rate :\")\n",
    "        self.message_charge = input(\"Enter message charge :\")\n",
    "        print(\"Enter the details of Customer\")\n",
    "        self.cust_id=input(\"Enter customer Id :\")\n",
    "        self.name = input(\"Enter customer name :\")\n",
    "        self.mob_no = input(\"Enter customer Number\")\n",
    "    def display(self):\n",
    "        print(\"-------------------- output -----------------------\")\n",
    "        print(\"Scheme ID: \",self.scheme_id)\n",
    "        print(\"Scheme Name: \",self.scheme_name)\n",
    "        print(\"Outgoing Rate: \",self.outgoing_rate)\n",
    "        print(\"Message charge: \",self.message_charge)\n",
    "        print(\"Customer ID :\",self.cust_id)\n",
    "        print(\"Customer Name :\",self.name)\n",
    "        print(\"customer Mobile number :\",self.mob_no)\n",
    "obj = customer()\n",
    "obj.read()\n",
    "obj.display()"
   ]
  },
  {
   "cell_type": "markdown",
   "id": "7cbc86f7",
   "metadata": {},
   "source": [
    "### 10) Create a arith class. The class should have a parameterized constructor and methods to add, subtract and multiply two numbers and to return the answers."
   ]
  },
  {
   "cell_type": "code",
   "execution_count": 10,
   "id": "b922b6a9",
   "metadata": {},
   "outputs": [
    {
     "name": "stdout",
     "output_type": "stream",
     "text": [
      "Enter n1= 5\n",
      "Enter n2 = 2\n",
      "_____________________________________________________\n",
      "Addition of n1 + n2 = 7\n",
      "Subtraction of n1 - n2 = 3\n",
      "Multiplication of n1 * n2 = 10\n"
     ]
    }
   ],
   "source": [
    "class Arith():\n",
    "    n1=n2=\"\"\n",
    "    def __init__(self,n1,n2):\n",
    "        self.n1=n1\n",
    "        self.n2=n2\n",
    "    def add(self):\n",
    "        ad = self.n1 + self.n2\n",
    "        return ad\n",
    "    def subtract(self):\n",
    "        sub = self.n1 - self.n2\n",
    "        return sub\n",
    "    def multiply(self):\n",
    "        mul = self.n1 * self.n2\n",
    "        return mul\n",
    "obj=Arith(int(input(\"Enter n1= \")),int(input(\"Enter n2 = \")))\n",
    "print(\"_____________________________________________________\")\n",
    "print(\"Addition of n1 + n2 =\",obj.add())\n",
    "print(\"Subtraction of n1 - n2 =\",obj.subtract())\n",
    "print(\"Multiplication of n1 * n2 =\",obj.multiply())"
   ]
  },
  {
   "cell_type": "code",
   "execution_count": null,
   "id": "01b177e5",
   "metadata": {},
   "outputs": [],
   "source": []
  }
 ],
 "metadata": {
  "kernelspec": {
   "display_name": "Python 3",
   "language": "python",
   "name": "python3"
  }
 },
 "nbformat": 4,
 "nbformat_minor": 5
}
