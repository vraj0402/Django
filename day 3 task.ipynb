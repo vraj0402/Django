{
 "cells": [
  {
   "cell_type": "code",
   "execution_count": 3,
   "metadata": {},
   "outputs": [
    {
     "name": "stdout",
     "output_type": "stream",
     "text": [
      "enter the number6\n",
      "you entered numbr = 6\n"
     ]
    }
   ],
   "source": [
    "a= input(\"enter the number\")\n",
    "print(\"you entered numbr =\",a)"
   ]
  },
  {
   "cell_type": "markdown",
   "metadata": {},
   "source": [
    "### Type casting in the input function"
   ]
  },
  {
   "cell_type": "code",
   "execution_count": 4,
   "metadata": {},
   "outputs": [
    {
     "name": "stdout",
     "output_type": "stream",
     "text": [
      "Enter the 1st number: 4\n",
      "Enter the 2nd number: 7\n",
      "The sum is=  11\n"
     ]
    }
   ],
   "source": [
    "a= int(input(\"Enter the 1st number: \"))\n",
    "b=int(input(\"Enter the 2nd number: \"))\n",
    "sum= a + b\n",
    "print(\"The sum is= \",sum)"
   ]
  },
  {
   "cell_type": "markdown",
   "metadata": {},
   "source": [
    "# conditional statements\n",
    "- if \n",
    "- if else\n",
    "- if...elif...else\n",
    "- Nested if statement"
   ]
  },
  {
   "cell_type": "code",
   "execution_count": 13,
   "metadata": {},
   "outputs": [
    {
     "name": "stdout",
     "output_type": "stream",
     "text": [
      "y=20 is greater then x=10\n"
     ]
    }
   ],
   "source": [
    "x,y = 10,20\n",
    "\n",
    "if x>y :\n",
    "    print(\"x=%d is greater then y=%d\"%(x,y))\n",
    "else:\n",
    "    print(\"y=%d is greater then x=%d\"%(y,x))\n"
   ]
  },
  {
   "cell_type": "code",
   "execution_count": 16,
   "metadata": {},
   "outputs": [
    {
     "name": "stdout",
     "output_type": "stream",
     "text": [
      "Enter value of x : 5\n",
      "Enter value of y :1\n",
      "x=5 is greater then y=1\n"
     ]
    }
   ],
   "source": [
    "x=int(input(\"Enter value of x : \"))\n",
    "y=int(input(\"Enter value of y :\"))\n",
    "\n",
    "if x==y :\n",
    "    print(\"x=%d is equal to y=%d\"%(x,y))\n",
    "elif x>y:\n",
    "    print(\"x=%d is greater then y=%d\"%(x,y))\n",
    "else:\n",
    "    print(\"y=%d is greater then x=%d\"%(y,x))\n"
   ]
  },
  {
   "cell_type": "code",
   "execution_count": 18,
   "metadata": {},
   "outputs": [
    {
     "name": "stdout",
     "output_type": "stream",
     "text": [
      "Enter value of x : -1\n",
      "x=-1 negattive\n"
     ]
    }
   ],
   "source": [
    "x=int(input(\"Enter value of x : \"))\n",
    "\n",
    "if x>=0:\n",
    "    if(x==0):\n",
    "        print(\"x=%d zero\"%(x))\n",
    "    else:\n",
    "        print(\"x=%d positive\"%(x))\n",
    "else:\n",
    "    print(\"x=%d negattive\"%(x))"
   ]
  },
  {
   "cell_type": "markdown",
   "metadata": {},
   "source": [
    "# loops\n",
    "- for\n",
    "- while\n",
    "- Nested loops\n",
    "- loop with else patrt\n",
    "- break and continue"
   ]
  },
  {
   "cell_type": "code",
   "execution_count": 19,
   "metadata": {},
   "outputs": [
    {
     "name": "stdout",
     "output_type": "stream",
     "text": [
      "1\n",
      "2\n",
      "3\n",
      "4\n",
      "5\n",
      "6\n",
      "7\n",
      "8\n",
      "9\n"
     ]
    }
   ],
   "source": [
    "l=[1,2,3,4,5,6,7,8,9]\n",
    "for i in l:\n",
    "    print(i)"
   ]
  },
  {
   "cell_type": "code",
   "execution_count": 21,
   "metadata": {},
   "outputs": [
    {
     "name": "stdout",
     "output_type": "stream",
     "text": [
      "1\n",
      "3\n",
      "5\n",
      "7\n",
      "9\n"
     ]
    }
   ],
   "source": [
    "for i in range(1,10,2):\n",
    "    print(i)\n",
    "    # range function range(start , stop ,step)"
   ]
  },
  {
   "cell_type": "code",
   "execution_count": 22,
   "metadata": {},
   "outputs": [
    {
     "name": "stdout",
     "output_type": "stream",
     "text": [
      "10\n",
      "9\n",
      "8\n",
      "7\n",
      "6\n",
      "5\n",
      "4\n",
      "3\n",
      "2\n",
      "1\n",
      "0\n"
     ]
    }
   ],
   "source": [
    "i=10\n",
    "while i>=0:\n",
    "    print(i)\n",
    "    i-=1"
   ]
  },
  {
   "cell_type": "code",
   "execution_count": 23,
   "metadata": {},
   "outputs": [
    {
     "name": "stdout",
     "output_type": "stream",
     "text": [
      "0\n",
      "1\n",
      "2\n",
      "3\n",
      "4\n",
      "5\n",
      "6\n",
      "7\n",
      "8\n",
      "9\n",
      "Loop ended\n"
     ]
    }
   ],
   "source": [
    "for i in range(10):\n",
    "    print(i)\n",
    "else:\n",
    "    print(\"Loop ended\")\n",
    "    #whenever the loop succesfully complited then only else part is printed if it break in between then wont run else part\n"
   ]
  },
  {
   "cell_type": "code",
   "execution_count": 24,
   "metadata": {},
   "outputs": [
    {
     "name": "stdout",
     "output_type": "stream",
     "text": [
      "0\n",
      "1\n",
      "2\n",
      "3\n",
      "4\n",
      "5\n"
     ]
    }
   ],
   "source": [
    "for i in range(10):\n",
    "    if(i==6):\n",
    "        break\n",
    "    print(i)\n",
    "else:\n",
    "    print(\"Loop ended\")"
   ]
  },
  {
   "cell_type": "code",
   "execution_count": 25,
   "metadata": {},
   "outputs": [
    {
     "name": "stdout",
     "output_type": "stream",
     "text": [
      "0\n",
      "1\n",
      "2\n",
      "3\n",
      "4\n",
      "5\n",
      "7\n",
      "9\n",
      "Loop ended\n"
     ]
    }
   ],
   "source": [
    "for i in range(10):\n",
    "    if(i==6 or i==8):\n",
    "       continue\n",
    "    print(i)\n",
    "else:\n",
    "    print(\"Loop ended\")"
   ]
  },
  {
   "cell_type": "code",
   "execution_count": null,
   "metadata": {},
   "outputs": [],
   "source": []
  }
 ],
 "metadata": {
  "kernelspec": {
   "display_name": "Python 3",
   "language": "python",
   "name": "python3"
  },
  "language_info": {
   "codemirror_mode": {
    "name": "ipython",
    "version": 3
   },
   "file_extension": ".py",
   "mimetype": "text/x-python",
   "name": "python",
   "nbconvert_exporter": "python",
   "pygments_lexer": "ipython3",
   "version": "3.7.6"
  }
 },
 "nbformat": 4,
 "nbformat_minor": 4
}
