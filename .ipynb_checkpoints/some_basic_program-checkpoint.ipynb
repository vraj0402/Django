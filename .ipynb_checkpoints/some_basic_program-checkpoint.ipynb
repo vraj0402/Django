{
 "cells": [
  {
   "cell_type": "markdown",
   "metadata": {},
   "source": [
    "# 1)calculate Avrage of 5 number"
   ]
  },
  {
   "cell_type": "code",
   "execution_count": 1,
   "metadata": {},
   "outputs": [
    {
     "name": "stdout",
     "output_type": "stream",
     "text": [
      "enter number 1  4\n",
      "enter number 2  3\n",
      "enter number 3  2\n",
      "enter number 4  5\n",
      "enter number 5  6\n",
      "Avrage of the given numbers is=  4.0\n"
     ]
    }
   ],
   "source": [
    "i=1\n",
    "sum=0\n",
    "while i<=5:\n",
    "    x=int(input(\"enter number %d  \"%(i)))\n",
    "    sum+=x\n",
    "    i+=1\n",
    "print(\"Avrage of the given numbers is= \",sum/5)\n",
    "   "
   ]
  },
  {
   "cell_type": "markdown",
   "metadata": {},
   "source": [
    "# 2)chech whether number is even or odd"
   ]
  },
  {
   "cell_type": "code",
   "execution_count": 2,
   "metadata": {},
   "outputs": [
    {
     "name": "stdout",
     "output_type": "stream",
     "text": [
      "Enter any number to check whether even or odd 47\n",
      "x=47 is odd\n"
     ]
    }
   ],
   "source": [
    "x=int(input(\"Enter any number to check whether even or odd \"))\n",
    "\n",
    "if(x%2 == 0):\n",
    "    print(\"x=%d is even \"%(x))\n",
    "else:\n",
    "    print(\"x=%d is odd\"%(x))"
   ]
  },
  {
   "cell_type": "markdown",
   "metadata": {},
   "source": [
    "# 3)Take a year and check whether it is leap year or not"
   ]
  },
  {
   "cell_type": "code",
   "execution_count": 4,
   "metadata": {},
   "outputs": [
    {
     "name": "stdout",
     "output_type": "stream",
     "text": [
      "Enter the year to check the leap year2016\n",
      "2016 is leap year\n"
     ]
    }
   ],
   "source": [
    "year=int(input(\"Enter the year to check the leap year\"))\n",
    "\n",
    "if(year % 4 ==0):\n",
    "    print(\"%d is leap year\"%(year))\n",
    "else:\n",
    "    print(\"%d is not leap year\"%(year))"
   ]
  },
  {
   "cell_type": "markdown",
   "metadata": {},
   "source": [
    "# 4)Take number and check whether zero,positive or negative"
   ]
  },
  {
   "cell_type": "code",
   "execution_count": 8,
   "metadata": {},
   "outputs": [
    {
     "name": "stdout",
     "output_type": "stream",
     "text": [
      "Enter value of x : 0\n",
      "x=0 is zero\n"
     ]
    }
   ],
   "source": [
    "x=int(input(\"Enter value of x : \"))\n",
    "\n",
    "if x>=0:\n",
    "    if(x==0):\n",
    "        print(\"x=%d is zero\"%(x))\n",
    "    else:\n",
    "        print(\"x=%d is positive\"%(x))\n",
    "else:\n",
    "    print(\"x=%d is negattive\"%(x))"
   ]
  },
  {
   "cell_type": "markdown",
   "metadata": {},
   "source": [
    "# 5) take 2 numbers and display grater number(also check equl or not)"
   ]
  },
  {
   "cell_type": "code",
   "execution_count": 10,
   "metadata": {},
   "outputs": [
    {
     "name": "stdout",
     "output_type": "stream",
     "text": [
      "Enter value of x : 5\n",
      "Enter value of y :6\n",
      "not equal\n",
      "y=6 is greater then x=5\n"
     ]
    }
   ],
   "source": [
    "x=int(input(\"Enter value of x : \"))\n",
    "y=int(input(\"Enter value of y :\"))\n",
    "\n",
    "if x==y :\n",
    "    print(\"x=%d is equal to y=%d\"%(x,y))\n",
    "elif x>y:\n",
    "    print(\"not equal\")\n",
    "    print(\"x=%d is greater then y=%d\"%(x,y))\n",
    "else:\n",
    "    print(\"not equal\")\n",
    "    print(\"y=%d is greater then x=%d\"%(y,x))\n"
   ]
  },
  {
   "cell_type": "markdown",
   "metadata": {},
   "source": [
    "# 6) take number and find factorial of the number"
   ]
  },
  {
   "cell_type": "code",
   "execution_count": 13,
   "metadata": {},
   "outputs": [
    {
     "name": "stdout",
     "output_type": "stream",
     "text": [
      "Enter number for factorial 5\n",
      "5! = 120\n"
     ]
    }
   ],
   "source": [
    "x=int(input(\"Enter number for factorial \"))\n",
    "mul=1\n",
    "i=x\n",
    "while(i>0):\n",
    "    mul*=i\n",
    "    i-=1\n",
    "print(\"%d! = %d\"%(x,mul))"
   ]
  },
  {
   "cell_type": "markdown",
   "metadata": {},
   "source": [
    "# 7) swap 2 number using 3rd variable"
   ]
  },
  {
   "cell_type": "code",
   "execution_count": 16,
   "metadata": {},
   "outputs": [
    {
     "name": "stdout",
     "output_type": "stream",
     "text": [
      "Enter value of x : 4\n",
      "Enter value of y :8\n",
      "Before swapping the values are: x=4 and y=8\n",
      "After  swapping the values are: x=8 and y=4\n"
     ]
    }
   ],
   "source": [
    "x=int(input(\"Enter value of x : \"))\n",
    "y=int(input(\"Enter value of y :\"))\n",
    "\n",
    "print(\"Before swapping the values are: x=%d and y=%d\"%(x,y))\n",
    "z=x\n",
    "x=y\n",
    "y=z\n",
    "print(\"After  swapping the values are: x=%d and y=%d\"%(x,y))"
   ]
  },
  {
   "cell_type": "markdown",
   "metadata": {},
   "source": [
    "# 8) take 2 number and find small number"
   ]
  },
  {
   "cell_type": "code",
   "execution_count": 17,
   "metadata": {},
   "outputs": [
    {
     "name": "stdout",
     "output_type": "stream",
     "text": [
      "Enter value of x : 9\n",
      "Enter value of y :7\n",
      "y is small\n"
     ]
    }
   ],
   "source": [
    "x=int(input(\"Enter value of x : \"))\n",
    "y=int(input(\"Enter value of y :\"))\n",
    "\n",
    "if(x<y):\n",
    "    print(\"x is small\")\n",
    "else:\n",
    "    print(\"y is small\")\n",
    "        "
   ]
  },
  {
   "cell_type": "markdown",
   "metadata": {},
   "source": [
    "# 9) take a number check if a number is less than 100 or not.\n",
    "# if it is less than 10 than check if odd or not"
   ]
  },
  {
   "cell_type": "code",
   "execution_count": 18,
   "metadata": {},
   "outputs": [
    {
     "name": "stdout",
     "output_type": "stream",
     "text": [
      "Enter value of x : 56\n",
      "Number is smaller than 100\n",
      "56 is even number\n"
     ]
    }
   ],
   "source": [
    "x=int(input(\"Enter value of x : \"))\n",
    "if(x>100):\n",
    "    print(\"Number is grater then 100\")\n",
    "else:\n",
    "    print(\"Number is smaller than 100\")\n",
    "    if(x%2==0):\n",
    "        print(\"%d is even number\"%(x))\n",
    "    else:\n",
    "        print(\"%d is odd number\"%(x))"
   ]
  },
  {
   "cell_type": "markdown",
   "metadata": {},
   "source": [
    "# 10) take the number to print the square of a number if it is less than 10\n"
   ]
  },
  {
   "cell_type": "code",
   "execution_count": 20,
   "metadata": {},
   "outputs": [
    {
     "name": "stdout",
     "output_type": "stream",
     "text": [
      "Enter value of x : 6\n",
      "square of 6 number is 36\n"
     ]
    }
   ],
   "source": [
    "x=int(input(\"Enter value of x : \"))\n",
    "if(x<10):\n",
    "    print(\"square of %d number is %d\"%(x,x*x))\n",
    "else:\n",
    "    print(\"entered number is not less then 10\")"
   ]
  },
  {
   "cell_type": "markdown",
   "metadata": {},
   "source": [
    "# 11)Take 3 numbers and find greatest number using nested IF….ELSE statement."
   ]
  },
  {
   "cell_type": "code",
   "execution_count": 6,
   "metadata": {},
   "outputs": [
    {
     "name": "stdout",
     "output_type": "stream",
     "text": [
      "Enter value of x : 9\n",
      "Enter value of y :45\n",
      "Enter value of z :6\n",
      "y=45 is greater than x=9 and z=6\n"
     ]
    }
   ],
   "source": [
    "x=int(input(\"Enter value of x : \"))\n",
    "y=int(input(\"Enter value of y :\"))\n",
    "z=int(input(\"Enter value of z :\"))\n",
    "\n",
    "if(x>=y):\n",
    "    if(x==y):\n",
    "        if(x==z):\n",
    "            print(\"X=%d , y=%d , z=%d\"%(x,y,z))\n",
    "    elif(x>z):\n",
    "        print(\"x=%d is greater than y=%d and z=%d\"%(x,y,z))\n",
    "    else:\n",
    "        print(\"z=%d is greater than x=%d and y=%d\"%(z,x,y))\n",
    "else:\n",
    "    print(\"y=%d is greater than x=%d and z=%d\"%(y,x,z))"
   ]
  },
  {
   "cell_type": "markdown",
   "metadata": {},
   "source": [
    "# 12)Take 3 numbers and find smallest number using logical operator"
   ]
  },
  {
   "cell_type": "code",
   "execution_count": 7,
   "metadata": {},
   "outputs": [
    {
     "name": "stdout",
     "output_type": "stream",
     "text": [
      "Enter value of x : 1\n",
      "Enter value of y :2\n",
      "Enter value of z :3\n",
      "x=1 is smallest\n"
     ]
    }
   ],
   "source": [
    "x=int(input(\"Enter value of x : \"))\n",
    "y=int(input(\"Enter value of y :\"))\n",
    "z=int(input(\"Enter value of z :\"))\n",
    "\n",
    "if(x<y and x<z):\n",
    "    print(\"x=%d is smallest\"%x)\n",
    "elif(y<z and y<z):\n",
    "    print(\"y=%d is smallest\"%y)\n",
    "elif(z,x and z<y):\n",
    "    print(\"z=%d is smallest\"%z)\n",
    "else:\n",
    "    print(\"\")"
   ]
  },
  {
   "cell_type": "markdown",
   "metadata": {},
   "source": [
    "# 13)Write a program to swap 2 numbers without taking third variable."
   ]
  },
  {
   "cell_type": "code",
   "execution_count": 8,
   "metadata": {},
   "outputs": [
    {
     "name": "stdout",
     "output_type": "stream",
     "text": [
      "Enter value of x : 4\n",
      "Enter value of y :5\n",
      "After swaping the number:\n",
      "x=5 and y=4\n"
     ]
    }
   ],
   "source": [
    "x=int(input(\"Enter value of x : \"))\n",
    "y=int(input(\"Enter value of y :\"))\n",
    "\n",
    "x=x+y\n",
    "y=x-y\n",
    "x=x-y\n",
    "print(\"After swaping the number:\")\n",
    "print(\"x=%d and y=%d\"%(x,y))"
   ]
  },
  {
   "cell_type": "markdown",
   "metadata": {},
   "source": [
    "# 14)15.\tTake starting number and ending number from the user and print following series.\n",
    "Enter starting number : 30\n",
    "Enter ending number : 0\n",
    "- output:\n",
    "- 30\n",
    "- 27\n",
    "- 24\n",
    "- 21\n",
    "- 18\n",
    "- 15\n",
    "- 12\n",
    "- 9\n",
    "- 6\n",
    "- 3\n",
    "- 0\n"
   ]
  },
  {
   "cell_type": "code",
   "execution_count": 4,
   "metadata": {},
   "outputs": [
    {
     "name": "stdout",
     "output_type": "stream",
     "text": [
      "Enter starting value  : 30\n",
      "Enter ending value :0\n",
      "30\n",
      "27\n",
      "24\n",
      "21\n",
      "18\n",
      "15\n",
      "12\n",
      "9\n",
      "6\n",
      "3\n",
      "0\n"
     ]
    }
   ],
   "source": [
    "x=int(input(\"Enter starting value  : \"))\n",
    "y=int(input(\"Enter ending value :\"))\n",
    "i=x\n",
    "while(i>=y):\n",
    "    print(int(i))\n",
    "    i-=3\n"
   ]
  },
  {
   "cell_type": "code",
   "execution_count": null,
   "metadata": {},
   "outputs": [],
   "source": []
  }
 ],
 "metadata": {
  "kernelspec": {
   "display_name": "Python 3",
   "language": "python",
   "name": "python3"
  },
  "language_info": {
   "codemirror_mode": {
    "name": "ipython",
    "version": 3
   },
   "file_extension": ".py",
   "mimetype": "text/x-python",
   "name": "python",
   "nbconvert_exporter": "python",
   "pygments_lexer": "ipython3",
   "version": "3.7.6"
  }
 },
 "nbformat": 4,
 "nbformat_minor": 4
}
